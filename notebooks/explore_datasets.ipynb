{
 "cells": [
  {
   "cell_type": "markdown",
   "id": "f61a6a05",
   "metadata": {},
   "source": [
    "# Explore Binance BTCUSDT Dataset\n",
    "\n",
    "This notebook explores the `/tmp/BTCUSDT-1s-2024-05.csv` dataset used in the Airflow pipeline. It loads the data, displays its structure, summary statistics, and visualizations."
   ]
  },
  {
   "cell_type": "markdown",
   "id": "f842c6be",
   "metadata": {},
   "source": [
    "## 1. Load Dataset\n",
    "\n",
    "Load the Binance BTCUSDT 1s kline CSV file from `/tmp/BTCUSDT-1s-2024-05.csv`."
   ]
  },
  {
   "cell_type": "code",
   "execution_count": null,
   "id": "b0d3bb4b",
   "metadata": {},
   "outputs": [],
   "source": [
    "import pandas as pd\n",
    "import os\n",
    "\n",
    "csv_path = '/tmp/BTCUSDT-1s-2024-05.csv'\n",
    "if os.path.exists(csv_path):\n",
    "    df = pd.read_csv(csv_path, header=None)\n",
    "    df.columns = [\n",
    "        \"open_time\", \"open\", \"high\", \"low\", \"close\", \"volume\",\n",
    "        \"close_time\", \"quote_asset_volume\", \"number_of_trades\",\n",
    "        \"taker_buy_base_asset_volume\", \"taker_buy_quote_asset_volume\", \"ignore\"\n",
    "    ]\n",
    "    print('Loaded dataset with shape:', df.shape)\n",
    "    display(df.head())\n",
    "else:\n",
    "    print('Dataset not found at', csv_path)"
   ]
  },
  {
   "cell_type": "markdown",
   "id": "00d19980",
   "metadata": {},
   "source": [
    "## 2. Explore Dataset Structure\n",
    "\n",
    "View columns, data types, and a sample of the data."
   ]
  },
  {
   "cell_type": "code",
   "execution_count": null,
   "id": "ee660123",
   "metadata": {},
   "outputs": [],
   "source": [
    "if 'df' in globals():\n",
    "    print('Columns:', df.columns.tolist())\n",
    "    print('Data types:')\n",
    "    print(df.dtypes)\n",
    "    display(df.sample(5))"
   ]
  },
  {
   "cell_type": "markdown",
   "id": "74d1db37",
   "metadata": {},
   "source": [
    "## 3. Display Summary Statistics\n",
    "\n",
    "Show summary statistics for numeric columns."
   ]
  },
  {
   "cell_type": "code",
   "execution_count": null,
   "id": "e5f2c487",
   "metadata": {},
   "outputs": [],
   "source": [
    "if 'df' in globals():\n",
    "    display(df.describe())"
   ]
  },
  {
   "cell_type": "markdown",
   "id": "be364b16",
   "metadata": {},
   "source": [
    "## 4. Visualize Dataset Features\n",
    "\n",
    "Plot price and volume trends."
   ]
  },
  {
   "cell_type": "code",
   "execution_count": null,
   "id": "4a65c068",
   "metadata": {},
   "outputs": [],
   "source": [
    "import matplotlib.pyplot as plt\n",
    "import seaborn as sns\n",
    "\n",
    "if 'df' in globals():\n",
    "    plt.figure(figsize=(12, 5))\n",
    "    plt.plot(df['close'].astype(float))\n",
    "    plt.title('BTCUSDT Close Price Over Time')\n",
    "    plt.xlabel('Time')\n",
    "    plt.ylabel('Close Price')\n",
    "    plt.show()\n",
    "\n",
    "    plt.figure(figsize=(12, 5))\n",
    "    plt.plot(df['volume'].astype(float))\n",
    "    plt.title('BTCUSDT Volume Over Time')\n",
    "    plt.xlabel('Time')\n",
    "    plt.ylabel('Volume')\n",
    "    plt.show()"
   ]
  },
  {
   "cell_type": "markdown",
   "id": "1dd1b9bb",
   "metadata": {},
   "source": [
    "## 5. Additional Analysis\n",
    "\n",
    "You can extend this notebook to perform more advanced analytics or visualizations on the BTCUSDT dataset."
   ]
  },
  {
   "cell_type": "code",
   "execution_count": null,
   "id": "4bb5178d",
   "metadata": {},
   "outputs": [],
   "source": [
    "import matplotlib.pyplot as plt\n",
    "import seaborn as sns\n",
    "\n",
    "if selected_file and dfs:\n",
    "    for i, df in enumerate(dfs):\n",
    "        print(f'Visualizations for DataFrame {i+1}:')\n",
    "        for col in df.select_dtypes(include=['number']).columns:\n",
    "            plt.figure(figsize=(6, 4))\n",
    "            sns.histplot(df[col], kde=True)\n",
    "            plt.title(f'Histogram of {col}')\n",
    "            plt.show()\n",
    "        if len(df.select_dtypes(include=['number']).columns) >= 2:\n",
    "            cols = df.select_dtypes(include=['number']).columns[:2]\n",
    "            plt.figure(figsize=(6, 4))\n",
    "            sns.scatterplot(x=df[cols[0]], y=df[cols[1]])\n",
    "            plt.title(f'Scatter plot: {cols[0]} vs {cols[1]}')\n",
    "            plt.show()\n",
    "else:\n",
    "    print('No data available for visualization.')"
   ]
  }
 ],
 "metadata": {
  "language_info": {
   "name": "python"
  }
 },
 "nbformat": 4,
 "nbformat_minor": 5
}

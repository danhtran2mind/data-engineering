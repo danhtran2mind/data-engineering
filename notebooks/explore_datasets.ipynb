{
 "cells": [
  {
   "cell_type": "markdown",
   "id": "f61a6a05",
   "metadata": {},
   "source": [
    "# Dataset Exploration in `notebooks/`\n",
    "\n",
    "This notebook helps you explore datasets found only in the `notebooks/` folder with `.ipynb` extension. You can list available notebooks, load their contents, inspect their structure, and visualize any embedded data."
   ]
  },
  {
   "cell_type": "markdown",
   "id": "f842c6be",
   "metadata": {},
   "source": [
    "## 1. List Available Datasets in Folder\n",
    "\n",
    "Use Python to list all `.ipynb` files in the `notebooks/` directory."
   ]
  },
  {
   "cell_type": "code",
   "execution_count": null,
   "id": "b0d3bb4b",
   "metadata": {},
   "outputs": [],
   "source": [
    "import os\n",
    "import glob\n",
    "\n",
    "# List all .ipynb files in the notebooks/ directory\n",
    "notebook_dir = 'notebooks'\n",
    "ipynb_files = glob.glob(os.path.join(notebook_dir, '*.ipynb'))\n",
    "\n",
    "print('Available .ipynb files:')\n",
    "for f in ipynb_files:\n",
    "    print('-', os.path.basename(f))"
   ]
  },
  {
   "cell_type": "markdown",
   "id": "00d19980",
   "metadata": {},
   "source": [
    "## 2. Load Selected Dataset\n",
    "\n",
    "Select a `.ipynb` file to load its contents using `nbformat`."
   ]
  },
  {
   "cell_type": "code",
   "execution_count": null,
   "id": "ee660123",
   "metadata": {},
   "outputs": [],
   "source": [
    "import nbformat\n",
    "\n",
    "# Select a notebook to load (update filename as needed)\n",
    "selected_file = ipynb_files[0] if ipynb_files else None\n",
    "if selected_file:\n",
    "    with open(selected_file, 'r', encoding='utf-8') as f:\n",
    "        nb = nbformat.read(f, as_version=4)\n",
    "    print(f'Loaded notebook: {selected_file}')\n",
    "else:\n",
    "    print('No notebook files found to load.')"
   ]
  },
  {
   "cell_type": "markdown",
   "id": "74d1db37",
   "metadata": {},
   "source": [
    "## 3. Explore Dataset Structure\n",
    "\n",
    "Parse the loaded notebook to identify code cells, markdown cells, and any embedded data."
   ]
  },
  {
   "cell_type": "code",
   "execution_count": null,
   "id": "e5f2c487",
   "metadata": {},
   "outputs": [],
   "source": [
    "if selected_file:\n",
    "    code_cells = [cell for cell in nb.cells if cell.cell_type == 'code']\n",
    "    markdown_cells = [cell for cell in nb.cells if cell.cell_type == 'markdown']\n",
    "    print(f'Code cells: {len(code_cells)}')\n",
    "    print(f'Markdown cells: {len(markdown_cells)}')\n",
    "    # Display first few lines of each type\n",
    "    if code_cells:\n",
    "        print('First code cell:')\n",
    "        print(code_cells[0].source)\n",
    "    if markdown_cells:\n",
    "        print('First markdown cell:')\n",
    "        print(markdown_cells[0].source)\n",
    "else:\n",
    "    print('No notebook loaded.')"
   ]
  },
  {
   "cell_type": "markdown",
   "id": "be364b16",
   "metadata": {},
   "source": [
    "## 4. Display Summary Statistics\n",
    "\n",
    "If the notebook contains data (e.g., pandas DataFrames), display summary statistics such as shape, columns, and basic descriptive stats."
   ]
  },
  {
   "cell_type": "code",
   "execution_count": null,
   "id": "4a65c068",
   "metadata": {},
   "outputs": [],
   "source": [
    "import pandas as pd\n",
    "import ast\n",
    "\n",
    "def extract_dataframes(code_cells):\n",
    "    dfs = []\n",
    "    for cell in code_cells:\n",
    "        # Try to find DataFrame creation in code\n",
    "        if 'pd.DataFrame' in cell.source:\n",
    "            try:\n",
    "                # Very basic extraction: look for dict or list in DataFrame constructor\n",
    "                start = cell.source.find('pd.DataFrame(') + len('pd.DataFrame(')\n",
    "                end = cell.source.find(')', start)\n",
    "                df_arg = cell.source[start:end]\n",
    "                data = ast.literal_eval(df_arg)\n",
    "                df = pd.DataFrame(data)\n",
    "                dfs.append(df)\n",
    "            except Exception:\n",
    "                continue\n",
    "    return dfs\n",
    "\n",
    "if selected_file:\n",
    "    dfs = extract_dataframes(code_cells)\n",
    "    if dfs:\n",
    "        for i, df in enumerate(dfs):\n",
    "            print(f'DataFrame {i+1}:')\n",
    "            print('Shape:', df.shape)\n",
    "            print('Columns:', df.columns.tolist())\n",
    "            print(df.describe(include=\"all\"))\n",
    "    else:\n",
    "        print('No DataFrames found in code cells.')\n",
    "else:\n",
    "    print('No notebook loaded.')"
   ]
  },
  {
   "cell_type": "markdown",
   "id": "1dd1b9bb",
   "metadata": {},
   "source": [
    "## 5. Visualize Dataset Features\n",
    "\n",
    "Generate basic visualizations (e.g., histograms, scatter plots) for any data found within the notebook."
   ]
  },
  {
   "cell_type": "code",
   "execution_count": null,
   "id": "4bb5178d",
   "metadata": {},
   "outputs": [],
   "source": [
    "import matplotlib.pyplot as plt\n",
    "import seaborn as sns\n",
    "\n",
    "if selected_file and dfs:\n",
    "    for i, df in enumerate(dfs):\n",
    "        print(f'Visualizations for DataFrame {i+1}:')\n",
    "        for col in df.select_dtypes(include=['number']).columns:\n",
    "            plt.figure(figsize=(6, 4))\n",
    "            sns.histplot(df[col], kde=True)\n",
    "            plt.title(f'Histogram of {col}')\n",
    "            plt.show()\n",
    "        if len(df.select_dtypes(include=['number']).columns) >= 2:\n",
    "            cols = df.select_dtypes(include=['number']).columns[:2]\n",
    "            plt.figure(figsize=(6, 4))\n",
    "            sns.scatterplot(x=df[cols[0]], y=df[cols[1]])\n",
    "            plt.title(f'Scatter plot: {cols[0]} vs {cols[1]}')\n",
    "            plt.show()\n",
    "else:\n",
    "    print('No data available for visualization.')"
   ]
  }
 ],
 "metadata": {
  "language_info": {
   "name": "python"
  }
 },
 "nbformat": 4,
 "nbformat_minor": 5
}
